{
 "cells": [
  {
   "cell_type": "code",
   "execution_count": 1,
   "id": "initial_id",
   "metadata": {
    "collapsed": true,
    "ExecuteTime": {
     "end_time": "2023-10-13T13:47:13.392491600Z",
     "start_time": "2023-10-13T13:47:09.336854100Z"
    }
   },
   "outputs": [],
   "source": [
    "import data_set\n",
    "import model\n",
    "import data_helper"
   ]
  },
  {
   "cell_type": "code",
   "execution_count": 2,
   "outputs": [],
   "source": [
    "bert_path = r\"C:\\Users\\Administrator\\Desktop\\研究生相关\\项目-问题文本分类\\Bert-Pytorch-Chinese-TextClassification-master\\bert\\bert-tiny-chinese-6L\"\n",
    "label_dict = {\"负向\": {\"label_words\": [\"不\",\"不太\"], \"label_id\": 0},\n",
    "                  \"正向\": {\"label_words\": [\"很\", \"非常\",\"比较\",\"挺\"], \"label_id\": 1}}\n",
    "\n",
    "MAX_LEN = 256\n",
    "template = \"{mask}满意。{text}\"\n",
    "\n"
   ],
   "metadata": {
    "collapsed": false,
    "ExecuteTime": {
     "end_time": "2023-10-13T13:47:13.404282300Z",
     "start_time": "2023-10-13T13:47:13.396289900Z"
    }
   },
   "id": "a6a77fe2077e8365"
  },
  {
   "cell_type": "code",
   "execution_count": 3,
   "outputs": [],
   "source": [
    "from transformers import BertTokenizer\n",
    "\n",
    "tk = BertTokenizer.from_pretrained(bert_path)"
   ],
   "metadata": {
    "collapsed": false,
    "ExecuteTime": {
     "end_time": "2023-10-13T13:47:13.436150200Z",
     "start_time": "2023-10-13T13:47:13.396289900Z"
    }
   },
   "id": "b2add336d8245630"
  },
  {
   "cell_type": "code",
   "execution_count": 4,
   "outputs": [
    {
     "name": "stderr",
     "output_type": "stream",
     "text": [
      "Some weights of the model checkpoint at C:\\Users\\Administrator\\Desktop\\研究生相关\\项目-问题文本分类\\Bert-Pytorch-Chinese-TextClassification-master\\bert\\bert-tiny-chinese-6L were not used when initializing PromptModel: ['bert.pooler.dense.weight', 'fit_dense.bias', 'cls.seq_relationship.weight', 'bert.pooler.dense.bias', 'cls.seq_relationship.bias', 'fit_dense.weight']\n",
      "- This IS expected if you are initializing PromptModel from the checkpoint of a model trained on another task or with another architecture (e.g. initializing a BertForSequenceClassification model from a BertForPreTraining model).\n",
      "- This IS NOT expected if you are initializing PromptModel from the checkpoint of a model that you expect to be exactly identical (initializing a BertForSequenceClassification model from a BertForSequenceClassification model).\n",
      "Some weights of PromptModel were not initialized from the model checkpoint at C:\\Users\\Administrator\\Desktop\\研究生相关\\项目-问题文本分类\\Bert-Pytorch-Chinese-TextClassification-master\\bert\\bert-tiny-chinese-6L and are newly initialized: ['cls.predictions.decoder.bias']\n",
      "You should probably TRAIN this model on a down-stream task to be able to use it for predictions and inference.\n"
     ]
    }
   ],
   "source": [
    "Bert = model.PromptModel.from_pretrained(bert_path)"
   ],
   "metadata": {
    "collapsed": false,
    "ExecuteTime": {
     "end_time": "2023-10-13T13:47:14.320052700Z",
     "start_time": "2023-10-13T13:47:13.432150900Z"
    }
   },
   "id": "eeb98653256c048a"
  },
  {
   "cell_type": "code",
   "execution_count": 5,
   "outputs": [],
   "source": [
    "trainSet = data_set.PromptDataSet(tk,MAX_LEN,template,label_dict,data_dir=\".\\data\",\n",
    "                                  data_set_name=\"train\",\n",
    "                                  path_file=r\".\\data\\train.json\")\n",
    "testSet = data_set.PromptDataSet(tk,MAX_LEN,template,label_dict,data_dir=\".\\data\",\n",
    "                                  data_set_name=\"test\",\n",
    "                                  path_file=r\".\\data\\test.json\")"
   ],
   "metadata": {
    "collapsed": false,
    "ExecuteTime": {
     "end_time": "2023-10-13T13:47:14.791504800Z",
     "start_time": "2023-10-13T13:47:14.321050700Z"
    }
   },
   "id": "b0565e65114ef391"
  },
  {
   "cell_type": "code",
   "execution_count": 6,
   "outputs": [
    {
     "name": "stderr",
     "output_type": "stream",
     "text": [
      "D:\\git_projects\\ChatGPTBook\\PromptProj\\model.py:55: UserWarning: torch.range is deprecated and will be removed in a future release because its behavior is inconsistent with Python's range builtin. Instead, use torch.arange, which produces values in [start, end).\n",
      "  mask = mask_index + torch.range(0, logits_shapes[0] - 1, dtype=torch.long, device=logits.device) * \\\n"
     ]
    },
    {
     "data": {
      "text/plain": "'\\nres:{\\n    0:loss,\\n    1:logits,\\n    2:predict_label\\n}\\n'"
     },
     "execution_count": 6,
     "metadata": {},
     "output_type": "execute_result"
    }
   ],
   "source": [
    "\n",
    "sample = [trainSet[i] for i in range(32)]\n",
    "batch = data_set.collate_func(sample)\n",
    "res = Bert.forward(input_ids=batch[\"input_ids\"], \n",
    "                   attention_mask=batch[\"attention_mask\"], \n",
    "                   mask_index=batch[\"mask_index\"],\n",
    "                   token_handler=\"mean\",\n",
    "                   words_ids=trainSet.words_ids, \n",
    "                   words_ids_mask=trainSet.words_ids_mask,\n",
    "                   label=batch[\"label\"])\n",
    "\n",
    "\"\"\"\n",
    "res:{\n",
    "    0:loss,\n",
    "    1:logits,\n",
    "    2:predict_label\n",
    "}\n",
    "\"\"\""
   ],
   "metadata": {
    "collapsed": false,
    "ExecuteTime": {
     "end_time": "2023-10-13T13:47:20.917726900Z",
     "start_time": "2023-10-13T13:47:14.791504800Z"
    }
   },
   "id": "2797885d566cede"
  },
  {
   "cell_type": "code",
   "execution_count": 21,
   "outputs": [
    {
     "name": "stdout",
     "output_type": "stream",
     "text": [
      "layer:bert.embeddings.word_embeddings.weight  ->  params:torch.Size([21128, 768])\n",
      "layer:bert.embeddings.position_embeddings.weight  ->  params:torch.Size([512, 768])\n",
      "layer:bert.embeddings.token_type_embeddings.weight  ->  params:torch.Size([2, 768])\n",
      "layer:bert.embeddings.LayerNorm.weight  ->  params:torch.Size([768])\n",
      "layer:bert.embeddings.LayerNorm.bias  ->  params:torch.Size([768])\n",
      "layer:bert.encoder.layer.0.attention.self.query.weight  ->  params:torch.Size([768, 768])\n",
      "layer:bert.encoder.layer.0.attention.self.query.bias  ->  params:torch.Size([768])\n",
      "layer:bert.encoder.layer.0.attention.self.key.weight  ->  params:torch.Size([768, 768])\n",
      "layer:bert.encoder.layer.0.attention.self.key.bias  ->  params:torch.Size([768])\n",
      "layer:bert.encoder.layer.0.attention.self.value.weight  ->  params:torch.Size([768, 768])\n",
      "layer:bert.encoder.layer.0.attention.self.value.bias  ->  params:torch.Size([768])\n",
      "layer:bert.encoder.layer.0.attention.output.dense.weight  ->  params:torch.Size([768, 768])\n",
      "layer:bert.encoder.layer.0.attention.output.dense.bias  ->  params:torch.Size([768])\n",
      "layer:bert.encoder.layer.0.attention.output.LayerNorm.weight  ->  params:torch.Size([768])\n",
      "layer:bert.encoder.layer.0.attention.output.LayerNorm.bias  ->  params:torch.Size([768])\n",
      "layer:bert.encoder.layer.0.intermediate.dense.weight  ->  params:torch.Size([3072, 768])\n",
      "layer:bert.encoder.layer.0.intermediate.dense.bias  ->  params:torch.Size([3072])\n",
      "layer:bert.encoder.layer.0.output.dense.weight  ->  params:torch.Size([768, 3072])\n",
      "layer:bert.encoder.layer.0.output.dense.bias  ->  params:torch.Size([768])\n",
      "layer:bert.encoder.layer.0.output.LayerNorm.weight  ->  params:torch.Size([768])\n",
      "layer:bert.encoder.layer.0.output.LayerNorm.bias  ->  params:torch.Size([768])\n",
      "layer:bert.encoder.layer.1.attention.self.query.weight  ->  params:torch.Size([768, 768])\n",
      "layer:bert.encoder.layer.1.attention.self.query.bias  ->  params:torch.Size([768])\n",
      "layer:bert.encoder.layer.1.attention.self.key.weight  ->  params:torch.Size([768, 768])\n",
      "layer:bert.encoder.layer.1.attention.self.key.bias  ->  params:torch.Size([768])\n",
      "layer:bert.encoder.layer.1.attention.self.value.weight  ->  params:torch.Size([768, 768])\n",
      "layer:bert.encoder.layer.1.attention.self.value.bias  ->  params:torch.Size([768])\n",
      "layer:bert.encoder.layer.1.attention.output.dense.weight  ->  params:torch.Size([768, 768])\n",
      "layer:bert.encoder.layer.1.attention.output.dense.bias  ->  params:torch.Size([768])\n",
      "layer:bert.encoder.layer.1.attention.output.LayerNorm.weight  ->  params:torch.Size([768])\n",
      "layer:bert.encoder.layer.1.attention.output.LayerNorm.bias  ->  params:torch.Size([768])\n",
      "layer:bert.encoder.layer.1.intermediate.dense.weight  ->  params:torch.Size([3072, 768])\n",
      "layer:bert.encoder.layer.1.intermediate.dense.bias  ->  params:torch.Size([3072])\n",
      "layer:bert.encoder.layer.1.output.dense.weight  ->  params:torch.Size([768, 3072])\n",
      "layer:bert.encoder.layer.1.output.dense.bias  ->  params:torch.Size([768])\n",
      "layer:bert.encoder.layer.1.output.LayerNorm.weight  ->  params:torch.Size([768])\n",
      "layer:bert.encoder.layer.1.output.LayerNorm.bias  ->  params:torch.Size([768])\n",
      "layer:bert.encoder.layer.2.attention.self.query.weight  ->  params:torch.Size([768, 768])\n",
      "layer:bert.encoder.layer.2.attention.self.query.bias  ->  params:torch.Size([768])\n",
      "layer:bert.encoder.layer.2.attention.self.key.weight  ->  params:torch.Size([768, 768])\n",
      "layer:bert.encoder.layer.2.attention.self.key.bias  ->  params:torch.Size([768])\n",
      "layer:bert.encoder.layer.2.attention.self.value.weight  ->  params:torch.Size([768, 768])\n",
      "layer:bert.encoder.layer.2.attention.self.value.bias  ->  params:torch.Size([768])\n",
      "layer:bert.encoder.layer.2.attention.output.dense.weight  ->  params:torch.Size([768, 768])\n",
      "layer:bert.encoder.layer.2.attention.output.dense.bias  ->  params:torch.Size([768])\n",
      "layer:bert.encoder.layer.2.attention.output.LayerNorm.weight  ->  params:torch.Size([768])\n",
      "layer:bert.encoder.layer.2.attention.output.LayerNorm.bias  ->  params:torch.Size([768])\n",
      "layer:bert.encoder.layer.2.intermediate.dense.weight  ->  params:torch.Size([3072, 768])\n",
      "layer:bert.encoder.layer.2.intermediate.dense.bias  ->  params:torch.Size([3072])\n",
      "layer:bert.encoder.layer.2.output.dense.weight  ->  params:torch.Size([768, 3072])\n",
      "layer:bert.encoder.layer.2.output.dense.bias  ->  params:torch.Size([768])\n",
      "layer:bert.encoder.layer.2.output.LayerNorm.weight  ->  params:torch.Size([768])\n",
      "layer:bert.encoder.layer.2.output.LayerNorm.bias  ->  params:torch.Size([768])\n",
      "layer:bert.encoder.layer.3.attention.self.query.weight  ->  params:torch.Size([768, 768])\n",
      "layer:bert.encoder.layer.3.attention.self.query.bias  ->  params:torch.Size([768])\n",
      "layer:bert.encoder.layer.3.attention.self.key.weight  ->  params:torch.Size([768, 768])\n",
      "layer:bert.encoder.layer.3.attention.self.key.bias  ->  params:torch.Size([768])\n",
      "layer:bert.encoder.layer.3.attention.self.value.weight  ->  params:torch.Size([768, 768])\n",
      "layer:bert.encoder.layer.3.attention.self.value.bias  ->  params:torch.Size([768])\n",
      "layer:bert.encoder.layer.3.attention.output.dense.weight  ->  params:torch.Size([768, 768])\n",
      "layer:bert.encoder.layer.3.attention.output.dense.bias  ->  params:torch.Size([768])\n",
      "layer:bert.encoder.layer.3.attention.output.LayerNorm.weight  ->  params:torch.Size([768])\n",
      "layer:bert.encoder.layer.3.attention.output.LayerNorm.bias  ->  params:torch.Size([768])\n",
      "layer:bert.encoder.layer.3.intermediate.dense.weight  ->  params:torch.Size([3072, 768])\n",
      "layer:bert.encoder.layer.3.intermediate.dense.bias  ->  params:torch.Size([3072])\n",
      "layer:bert.encoder.layer.3.output.dense.weight  ->  params:torch.Size([768, 3072])\n",
      "layer:bert.encoder.layer.3.output.dense.bias  ->  params:torch.Size([768])\n",
      "layer:bert.encoder.layer.3.output.LayerNorm.weight  ->  params:torch.Size([768])\n",
      "layer:bert.encoder.layer.3.output.LayerNorm.bias  ->  params:torch.Size([768])\n",
      "layer:bert.encoder.layer.4.attention.self.query.weight  ->  params:torch.Size([768, 768])\n",
      "layer:bert.encoder.layer.4.attention.self.query.bias  ->  params:torch.Size([768])\n",
      "layer:bert.encoder.layer.4.attention.self.key.weight  ->  params:torch.Size([768, 768])\n",
      "layer:bert.encoder.layer.4.attention.self.key.bias  ->  params:torch.Size([768])\n",
      "layer:bert.encoder.layer.4.attention.self.value.weight  ->  params:torch.Size([768, 768])\n",
      "layer:bert.encoder.layer.4.attention.self.value.bias  ->  params:torch.Size([768])\n",
      "layer:bert.encoder.layer.4.attention.output.dense.weight  ->  params:torch.Size([768, 768])\n",
      "layer:bert.encoder.layer.4.attention.output.dense.bias  ->  params:torch.Size([768])\n",
      "layer:bert.encoder.layer.4.attention.output.LayerNorm.weight  ->  params:torch.Size([768])\n",
      "layer:bert.encoder.layer.4.attention.output.LayerNorm.bias  ->  params:torch.Size([768])\n",
      "layer:bert.encoder.layer.4.intermediate.dense.weight  ->  params:torch.Size([3072, 768])\n",
      "layer:bert.encoder.layer.4.intermediate.dense.bias  ->  params:torch.Size([3072])\n",
      "layer:bert.encoder.layer.4.output.dense.weight  ->  params:torch.Size([768, 3072])\n",
      "layer:bert.encoder.layer.4.output.dense.bias  ->  params:torch.Size([768])\n",
      "layer:bert.encoder.layer.4.output.LayerNorm.weight  ->  params:torch.Size([768])\n",
      "layer:bert.encoder.layer.4.output.LayerNorm.bias  ->  params:torch.Size([768])\n",
      "layer:bert.encoder.layer.5.attention.self.query.weight  ->  params:torch.Size([768, 768])\n",
      "layer:bert.encoder.layer.5.attention.self.query.bias  ->  params:torch.Size([768])\n",
      "layer:bert.encoder.layer.5.attention.self.key.weight  ->  params:torch.Size([768, 768])\n",
      "layer:bert.encoder.layer.5.attention.self.key.bias  ->  params:torch.Size([768])\n",
      "layer:bert.encoder.layer.5.attention.self.value.weight  ->  params:torch.Size([768, 768])\n",
      "layer:bert.encoder.layer.5.attention.self.value.bias  ->  params:torch.Size([768])\n",
      "layer:bert.encoder.layer.5.attention.output.dense.weight  ->  params:torch.Size([768, 768])\n",
      "layer:bert.encoder.layer.5.attention.output.dense.bias  ->  params:torch.Size([768])\n",
      "layer:bert.encoder.layer.5.attention.output.LayerNorm.weight  ->  params:torch.Size([768])\n",
      "layer:bert.encoder.layer.5.attention.output.LayerNorm.bias  ->  params:torch.Size([768])\n",
      "layer:bert.encoder.layer.5.intermediate.dense.weight  ->  params:torch.Size([3072, 768])\n",
      "layer:bert.encoder.layer.5.intermediate.dense.bias  ->  params:torch.Size([3072])\n",
      "layer:bert.encoder.layer.5.output.dense.weight  ->  params:torch.Size([768, 3072])\n",
      "layer:bert.encoder.layer.5.output.dense.bias  ->  params:torch.Size([768])\n",
      "layer:bert.encoder.layer.5.output.LayerNorm.weight  ->  params:torch.Size([768])\n",
      "layer:bert.encoder.layer.5.output.LayerNorm.bias  ->  params:torch.Size([768])\n",
      "layer:cls.predictions.bias            ->  params:torch.Size([21128])\n",
      "layer:cls.predictions.transform.dense.weight  ->  params:torch.Size([768, 768])\n",
      "layer:cls.predictions.transform.dense.bias  ->  params:torch.Size([768])\n",
      "layer:cls.predictions.transform.LayerNorm.weight  ->  params:torch.Size([768])\n",
      "layer:cls.predictions.transform.LayerNorm.bias  ->  params:torch.Size([768])\n",
      "layer:cls.predictions.decoder.weight  ->  params:torch.Size([21128, 768])\n"
     ]
    }
   ],
   "source": [
    "verb = trainSet.get_verbalizer()\n",
    "\n",
    "params = list(Bert.named_parameters())\n",
    "\n",
    "for i in params:\n",
    "    print(f\"layer:{i[0]:<30}  ->  params:{i[1].shape}\")\n",
    "    \n",
    "    \n",
    "    "
   ],
   "metadata": {
    "collapsed": false,
    "ExecuteTime": {
     "end_time": "2023-10-13T14:23:40.899484300Z",
     "start_time": "2023-10-13T14:23:40.895911Z"
    }
   },
   "id": "f51a2c61efa72ac6"
  }
 ],
 "metadata": {
  "kernelspec": {
   "display_name": "Python 3",
   "language": "python",
   "name": "python3"
  },
  "language_info": {
   "codemirror_mode": {
    "name": "ipython",
    "version": 2
   },
   "file_extension": ".py",
   "mimetype": "text/x-python",
   "name": "python",
   "nbconvert_exporter": "python",
   "pygments_lexer": "ipython2",
   "version": "2.7.6"
  }
 },
 "nbformat": 4,
 "nbformat_minor": 5
}
