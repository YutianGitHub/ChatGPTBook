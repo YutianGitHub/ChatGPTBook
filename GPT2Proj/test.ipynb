{
 "cells": [
  {
   "cell_type": "code",
   "execution_count": 3,
   "id": "initial_id",
   "metadata": {
    "collapsed": true,
    "ExecuteTime": {
     "end_time": "2023-10-14T15:10:21.982879800Z",
     "start_time": "2023-10-14T15:10:21.979885600Z"
    }
   },
   "outputs": [],
   "source": [
    "import model\n",
    "import data_set\n",
    "import generate_sample\n",
    "import transformers"
   ]
  },
  {
   "cell_type": "code",
   "execution_count": 2,
   "outputs": [],
   "source": [
    "bert_path = r\".\\pretrain_model\"\n",
    "train_path = r\".\\data\\train.json\"\n",
    "test_path = r\".\\data\\test.json\"\n"
   ],
   "metadata": {
    "collapsed": false,
    "ExecuteTime": {
     "end_time": "2023-10-14T15:10:03.404341200Z",
     "start_time": "2023-10-14T15:10:03.400843300Z"
    }
   },
   "id": "cc0c23694126c409"
  },
  {
   "cell_type": "code",
   "execution_count": 4,
   "outputs": [],
   "source": [
    "tk = transformers.BertTokenizer.from_pretrained(bert_path)"
   ],
   "metadata": {
    "collapsed": false,
    "ExecuteTime": {
     "end_time": "2023-10-14T15:10:46.979133800Z",
     "start_time": "2023-10-14T15:10:46.954854600Z"
    }
   },
   "id": "bc01d5a862b47e3"
  },
  {
   "cell_type": "code",
   "execution_count": null,
   "outputs": [],
   "source": [
    "Bert = model.GPT2LMHeadModel.from_pretrained(bert_path)\n"
   ],
   "metadata": {
    "collapsed": false
   },
   "id": "1e09b22f3942c091"
  },
  {
   "cell_type": "code",
   "execution_count": null,
   "outputs": [],
   "source": [
    "Bert.cuda()"
   ],
   "metadata": {
    "collapsed": false
   },
   "id": "54dbb441d0c17cf0"
  },
  {
   "cell_type": "code",
   "execution_count": null,
   "outputs": [],
   "source": [
    "import torchkeras\n",
    "import torch\n",
    "ids = torch.arange(0,32,device=\"cuda\").view(-1,8)\n",
    "\n",
    "torchkeras.summary(Bert,ids,batch_size=4)\n"
   ],
   "metadata": {
    "collapsed": false
   },
   "id": "a814da24a9b3dbab"
  },
  {
   "cell_type": "code",
   "execution_count": 12,
   "outputs": [],
   "source": [
    "res = Bert.__call__(ids)"
   ],
   "metadata": {
    "collapsed": false,
    "ExecuteTime": {
     "end_time": "2023-10-14T15:27:00.862941100Z",
     "start_time": "2023-10-14T15:27:00.671005800Z"
    }
   },
   "id": "14d7a7b6fc7568e5"
  },
  {
   "cell_type": "code",
   "execution_count": 13,
   "outputs": [
    {
     "name": "stderr",
     "output_type": "stream",
     "text": [
      "iter: 100%|██████████| 37999/37999 [00:43<00:00, 868.54it/s]\n"
     ]
    }
   ],
   "source": [
    "trainSet = data_set.GPT2DataSet(\n",
    "    tokenizer=tk,\n",
    "    max_len=512,\n",
    "    title_max_len=64,\n",
    "    data_dir=\".\\data\",\n",
    "    data_set_name=\"train\",\n",
    "    path_file=\".\\data\\\\train.json\"    \n",
    ")"
   ],
   "metadata": {
    "collapsed": false,
    "ExecuteTime": {
     "end_time": "2023-10-14T15:47:26.058337200Z",
     "start_time": "2023-10-14T15:46:37.894088300Z"
    }
   },
   "id": "d75c1dd8f3917b22"
  }
 ],
 "metadata": {
  "kernelspec": {
   "display_name": "Python 3",
   "language": "python",
   "name": "python3"
  },
  "language_info": {
   "codemirror_mode": {
    "name": "ipython",
    "version": 2
   },
   "file_extension": ".py",
   "mimetype": "text/x-python",
   "name": "python",
   "nbconvert_exporter": "python",
   "pygments_lexer": "ipython2",
   "version": "2.7.6"
  }
 },
 "nbformat": 4,
 "nbformat_minor": 5
}
